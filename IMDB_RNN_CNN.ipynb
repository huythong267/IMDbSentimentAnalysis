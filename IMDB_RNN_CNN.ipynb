{
 "cells": [
  {
   "cell_type": "code",
   "execution_count": 1,
   "metadata": {},
   "outputs": [],
   "source": [
    "from sklearn.datasets import load_files\n",
    "import re\n",
    "from sklearn.feature_extraction.text import CountVectorizer\n",
    "from nltk.corpus import stopwords\n",
    "from nltk.stem.porter import PorterStemmer\n",
    "from nltk.stem import LancasterStemmer\n",
    "from nltk.stem import WordNetLemmatizer\n",
    "from string import digits\n",
    "import h5py\n",
    "import pydot\n",
    "from collections import Counter\n",
    "from IPython.display import SVG"
   ]
  },
  {
   "cell_type": "code",
   "execution_count": 2,
   "metadata": {},
   "outputs": [],
   "source": [
    "import numpy as np\n",
    "import matplotlib.pyplot as plt\n",
    "from scipy.spatial.distance import cdist\n",
    "\n",
    "%matplotlib inline"
   ]
  },
  {
   "cell_type": "code",
   "execution_count": 3,
   "metadata": {},
   "outputs": [
    {
     "name": "stderr",
     "output_type": "stream",
     "text": [
      "Using TensorFlow backend.\n"
     ]
    }
   ],
   "source": [
    "from keras.preprocessing import sequence\n",
    "from keras.models import Sequential\n",
    "from keras.models import load_model\n",
    "from keras.layers import Dense, Dropout, Embedding\n",
    "from keras.layers import LSTM\n",
    "from keras.layers import Conv1D, GlobalMaxPooling1D\n",
    "from keras.layers import Activation\n",
    "from keras.callbacks import ModelCheckpoint\n",
    "from keras.utils import plot_model\n",
    "from keras.utils.vis_utils import model_to_dot"
   ]
  },
  {
   "cell_type": "markdown",
   "metadata": {},
   "source": [
    "# Import the data"
   ]
  },
  {
   "cell_type": "code",
   "execution_count": 4,
   "metadata": {},
   "outputs": [],
   "source": [
    "#IMPORT TRAINING DATA\n",
    "reviews_train = load_files(\"aclImdb/train/\", shuffle=False, encoding='utf-8')\n",
    "text_train, y_train = reviews_train.data, reviews_train.target"
   ]
  },
  {
   "cell_type": "code",
   "execution_count": 5,
   "metadata": {},
   "outputs": [],
   "source": [
    "#IMPORT TESTING DATA\n",
    "reviews_test = load_files(\"aclImdb/test/\", shuffle=False, encoding='utf-8')\n",
    "text_test, y_test = reviews_test.data, reviews_test.target"
   ]
  },
  {
   "cell_type": "code",
   "execution_count": 6,
   "metadata": {},
   "outputs": [
    {
     "name": "stdout",
     "output_type": "stream",
     "text": [
      "Number of documents in train data: 25000\n",
      "Samples per class (train): [12500 12500]\n",
      "Number of documents in test data: 25000\n",
      "Samples per class (test): [12500 12500]\n"
     ]
    }
   ],
   "source": [
    "print(\"Number of documents in train data: {}\".format(len(text_train)))\n",
    "print(\"Samples per class (train): {}\".format(np.bincount(y_train)))\n",
    "\n",
    "print(\"Number of documents in test data: {}\".format(len(text_test)))\n",
    "print(\"Samples per class (test): {}\".format(np.bincount(y_test)))"
   ]
  },
  {
   "cell_type": "markdown",
   "metadata": {},
   "source": [
    "# Clean Text Data"
   ]
  },
  {
   "cell_type": "code",
   "execution_count": 7,
   "metadata": {},
   "outputs": [],
   "source": [
    "# 1.Define the characters to be removed. \n",
    "REPLACE_NO_SPACE = re.compile(\"[.;:!\\'?,\\\"()\\[\\]_0-9]\") # Removes : . ; : ! ' ? , \" ( ) [ ] _ and digits (0-9) \n",
    "REPLACE_WITH_SPACE = re.compile(\"(<br\\s*/><br\\s*/>)|(\\-)|(\\/)\") #removes html tags\n",
    "\n",
    "# 2.Define stop words to be removed\n",
    "#stop_words = stopwords.words('english') \n",
    "#Default stop words above might be removing too much words. Therefore I copied it and removed some words that\n",
    "#I thought would be useful. Feel free to add/remove.\n",
    "stop_words = ['i', 'me', 'my', 'myself', 'we', 'our', 'ours', 'ourselves', 'you',\"you're\", \"you've\", \"you'll\",\n",
    "              \"you'd\", 'your', 'yours', 'yourself','yourselves', 'he', 'him', 'his', 'himself', 'she', \"she's\",\n",
    "              'her', 'hers', 'herself', 'it', \"it's\", 'its', 'itself', 'they', 'them', 'their', 'theirs', \n",
    "              'themselves', 'what', 'which', 'who', 'whom', 'this', 'that', \"that'll\", 'these', 'those',\n",
    "              'am', 'is', 'are', 'was', 'were', 'be', 'been', 'being', 'have', 'has', 'had', 'having', 'do',\n",
    "              'does', 'did', 'doing', 'a', 'an', 'the', 'and', 'if', 'or', 'because', 'as', 'until',\n",
    "              'while', 'of', 'at', 'by', 'for', 'with', 'about', 'between', 'into', 'through', 'during',\n",
    "              'before', 'after', 'to', 'from', 'further', 'then', 'once', 'here', 'there', 'when','where',\n",
    "              'why', 'how', 'all','both', 'each', 'few',  'such','own', 'same', 'so', 'can', 'will', 'just',\n",
    "              'now', 'd', 'll', 'm', 'o', 're', 've', 'y']"
   ]
  },
  {
   "cell_type": "code",
   "execution_count": 8,
   "metadata": {},
   "outputs": [],
   "source": [
    "def cleanText(text_train):\n",
    "    # 3.remove REPLACE_NO_SPACE characters and convert all charachters to low-case\n",
    "    text_train = [REPLACE_NO_SPACE.sub(\"\", line.lower()) for line in text_train]\n",
    "    \n",
    "    # 4.remove REPLACE_WITH_SPACE characters by replacing them with space\n",
    "    text_train = [REPLACE_WITH_SPACE.sub(\" \", line) for line in text_train]\n",
    "    \n",
    "    #remove stop words\n",
    "    removed_stop_words = []\n",
    "    for review in text_train:\n",
    "        removed_stop_words.append(' '.join([word for word in review.split() \n",
    "        if word not in stop_words]))\n",
    "        \n",
    "    text_train = removed_stop_words\n",
    "    \n",
    "    # 5. Word normalization: stemmization or lemmatization. They are practically trying to convert the words into\n",
    "    #their origins. Stemmmers just chop-off certain parts from the ends of the words, therefore they are mostly \n",
    "    #considered as very aggresssive. Lemmatizers are more complex and they sort of try to find the origin of the\n",
    "    #words rather than chopping off the end (i.e. \"am\", \"is\", \"are\" would be converted into \"be\") \n",
    "    # Make sure that you use either stemmizer or lemmatizer. Using both of them could result in distortion of \n",
    "    #the data.\n",
    "              \n",
    "    # 5a. stemmize: there are two stemmizer options\n",
    "    \n",
    "    #stemmer = PorterStemmer()\n",
    "    #stemmer = LancasterStemmer()\n",
    "    #text_train =  [' '.join([stemmer.stem(word) for word in review.split()]) for review in text_train]\n",
    "    \n",
    "    # 5b. lemmatize\n",
    "    lemmatizer = WordNetLemmatizer()\n",
    "    text_train = [' '.join([lemmatizer.lemmatize(word) for word in review.split()]) for review in text_train]\n",
    "\n",
    "    \n",
    "    return text_train"
   ]
  },
  {
   "cell_type": "code",
   "execution_count": 9,
   "metadata": {},
   "outputs": [],
   "source": [
    "cleanedTrainingText = cleanText(text_train)\n",
    "cleanedTestingText = cleanText(text_test)"
   ]
  },
  {
   "cell_type": "code",
   "execution_count": 10,
   "metadata": {},
   "outputs": [
    {
     "name": "stdout",
     "output_type": "stream",
     "text": [
      "Before: \n",
      "Okay, just by reading the title you would think that it would be a good movie. Well, at least I did. It started out good but became so boring after the first half hour. *spoiler*<br /><br />It tells a story about a mother that is so desperate for her daughter to become a cheerleader that she will go to any lengths to get what she wants. The only problem is that her daughter's friend is the girl in the way. She always wins the competitions, therefore pushing the mother further towards \"eliminating\" her. After talking to a \"hitman\", the mother decides that the girl needs to be roughed up a bit. So actions are taken but she eventually gets caught.<br /><br />The cast is awful and the movie drags on too long with nothing happening. Don't waste your time watching this.<br /><br />\n",
      " \n",
      "After: \n",
      "okay reading title would think would good movie well least started out good but became boring first half hour *spoiler* tell story mother desperate daughter become cheerleader go any length get want only problem daughter friend girl in way always win competition therefore pushing mother towards eliminating talking hitman mother decides girl need roughed up bit action taken but eventually get caught cast awful movie drag on too long nothing happening dont waste time watching\n"
     ]
    }
   ],
   "source": [
    "# You can see the result of cleaning here. Check different reviews by changing the reviewNo\n",
    "reviewNo = 202 #an integer from 0 to 24999\n",
    "print(\"Before: \")\n",
    "print(text_train[reviewNo])\n",
    "print(\" \")\n",
    "print(\"After: \")\n",
    "print(cleanedTrainingText[reviewNo])"
   ]
  },
  {
   "cell_type": "markdown",
   "metadata": {},
   "source": [
    "# Dictionary to map from word to integer"
   ]
  },
  {
   "cell_type": "code",
   "execution_count": 11,
   "metadata": {},
   "outputs": [],
   "source": [
    "All_text = cleanedTrainingText + cleanedTestingText\n",
    "All_words = ' '.join(All_text)\n",
    "All_words = All_words.split()"
   ]
  },
  {
   "cell_type": "code",
   "execution_count": 12,
   "metadata": {},
   "outputs": [],
   "source": [
    "words_count = Counter(All_words)\n",
    "# Set of keys, which is sorted based on the values \n",
    "sorted_set_of_words = sorted(words_count, key = words_count.get, reverse = True)\n",
    "vocab_to_int = {w: idx+1 for idx, w in enumerate(sorted_set_of_words)}\n",
    "int_to_vocab = {idx+1: w for idx, w in enumerate(sorted_set_of_words)}\n",
    "\n",
    "# When key is 0, return '' for padding sequence\n",
    "vocab_to_int[''] = 0\n",
    "int_to_vocab[0] = ''"
   ]
  },
  {
   "cell_type": "markdown",
   "metadata": {},
   "source": [
    "# Define the maximum number of words we want to work with"
   ]
  },
  {
   "cell_type": "code",
   "execution_count": 13,
   "metadata": {},
   "outputs": [],
   "source": [
    "max_features = 8000"
   ]
  },
  {
   "cell_type": "code",
   "execution_count": 14,
   "metadata": {},
   "outputs": [],
   "source": [
    "train_int = [[vocab_to_int[w]  for w in review.split() if vocab_to_int[w]<max_features] for review in cleanedTrainingText]\n",
    "test_int = [[vocab_to_int[w]  for w in review.split() if vocab_to_int[w]<max_features] for review in cleanedTestingText]"
   ]
  },
  {
   "cell_type": "code",
   "execution_count": 15,
   "metadata": {},
   "outputs": [],
   "source": [
    "x_train, x_test = train_int, test_int"
   ]
  },
  {
   "cell_type": "code",
   "execution_count": 16,
   "metadata": {},
   "outputs": [],
   "source": [
    "def print_comments(x,loc):\n",
    "    print(' '.join(int_to_vocab[id] for id in x[loc]))"
   ]
  },
  {
   "cell_type": "code",
   "execution_count": 17,
   "metadata": {},
   "outputs": [
    {
     "name": "stdout",
     "output_type": "stream",
     "text": [
      "okay reading title would think would good movie well least started out good but became boring first half hour tell story mother desperate daughter become cheerleader go any length get want only problem daughter friend girl in way always win competition therefore pushing mother towards talking mother decides girl need up bit action taken but eventually get caught cast awful movie drag on too long nothing happening dont waste time watching\n"
     ]
    }
   ],
   "source": [
    "print_comments(x_train,202)"
   ]
  },
  {
   "cell_type": "markdown",
   "metadata": {},
   "source": [
    "# Padding sequence such that all reviews have the same length"
   ]
  },
  {
   "cell_type": "code",
   "execution_count": 18,
   "metadata": {},
   "outputs": [],
   "source": [
    "maxlen = 600"
   ]
  },
  {
   "cell_type": "code",
   "execution_count": 19,
   "metadata": {},
   "outputs": [
    {
     "name": "stdout",
     "output_type": "stream",
     "text": [
      "Pad sequences:\n",
      "x_train shape: (25000, 600)\n",
      "x_test shape: (25000, 600)\n"
     ]
    }
   ],
   "source": [
    "print('Pad sequences:')\n",
    "x_train = sequence.pad_sequences(x_train, maxlen=maxlen)\n",
    "x_test = sequence.pad_sequences(x_test, maxlen=maxlen)\n",
    "print('x_train shape:', x_train.shape)\n",
    "print('x_test shape:', x_test.shape)"
   ]
  },
  {
   "cell_type": "code",
   "execution_count": 20,
   "metadata": {},
   "outputs": [
    {
     "name": "stdout",
     "output_type": "stream",
     "text": [
      "                                                                                                                                                                                                                                                                                                                                                                                                                                                                                                                                                 okay reading title would think would good movie well least started out good but became boring first half hour tell story mother desperate daughter become cheerleader go any length get want only problem daughter friend girl in way always win competition therefore pushing mother towards talking mother decides girl need up bit action taken but eventually get caught cast awful movie drag on too long nothing happening dont waste time watching\n"
     ]
    }
   ],
   "source": [
    "print_comments(x_train,202)"
   ]
  },
  {
   "cell_type": "markdown",
   "metadata": {},
   "source": [
    "# RNN model"
   ]
  },
  {
   "cell_type": "code",
   "execution_count": 21,
   "metadata": {},
   "outputs": [],
   "source": [
    "batch_size = 25"
   ]
  },
  {
   "cell_type": "code",
   "execution_count": 22,
   "metadata": {},
   "outputs": [
    {
     "name": "stdout",
     "output_type": "stream",
     "text": [
      "WARNING:tensorflow:From C:\\Users\\huyth\\Anaconda3\\lib\\site-packages\\tensorflow\\python\\framework\\op_def_library.py:263: colocate_with (from tensorflow.python.framework.ops) is deprecated and will be removed in a future version.\n",
      "Instructions for updating:\n",
      "Colocations handled automatically by placer.\n",
      "WARNING:tensorflow:From C:\\Users\\huyth\\Anaconda3\\lib\\site-packages\\keras\\backend\\tensorflow_backend.py:3445: calling dropout (from tensorflow.python.ops.nn_ops) with keep_prob is deprecated and will be removed in a future version.\n",
      "Instructions for updating:\n",
      "Please use `rate` instead of `keep_prob`. Rate should be set to `rate = 1 - keep_prob`.\n"
     ]
    }
   ],
   "source": [
    "model = Sequential()\n",
    "model.add(Embedding(max_features, 50, name='HT_embedding'))\n",
    "model.add(LSTM(128, dropout=0.3))\n",
    "model.add(Dense(128, activation = 'relu'))\n",
    "model.add(Dropout(0.3))\n",
    "model.add(Dense(1, activation='sigmoid'))"
   ]
  },
  {
   "cell_type": "code",
   "execution_count": 23,
   "metadata": {},
   "outputs": [
    {
     "name": "stdout",
     "output_type": "stream",
     "text": [
      "_________________________________________________________________\n",
      "Layer (type)                 Output Shape              Param #   \n",
      "=================================================================\n",
      "HT_embedding (Embedding)     (None, None, 50)          400000    \n",
      "_________________________________________________________________\n",
      "lstm_1 (LSTM)                (None, 128)               91648     \n",
      "_________________________________________________________________\n",
      "dense_1 (Dense)              (None, 128)               16512     \n",
      "_________________________________________________________________\n",
      "dropout_1 (Dropout)          (None, 128)               0         \n",
      "_________________________________________________________________\n",
      "dense_2 (Dense)              (None, 1)                 129       \n",
      "=================================================================\n",
      "Total params: 508,289\n",
      "Trainable params: 508,289\n",
      "Non-trainable params: 0\n",
      "_________________________________________________________________\n"
     ]
    }
   ],
   "source": [
    "model.summary()"
   ]
  },
  {
   "cell_type": "code",
   "execution_count": 24,
   "metadata": {},
   "outputs": [],
   "source": [
    "model.compile(loss='binary_crossentropy',\n",
    "              optimizer='adam',\n",
    "              metrics=['accuracy'])"
   ]
  },
  {
   "cell_type": "code",
   "execution_count": 25,
   "metadata": {},
   "outputs": [],
   "source": [
    "RNN_checkpoint = ModelCheckpoint('RNN-model-{epoch:03d}-{acc:03f}-{val_acc:03f}.h5', \n",
    "                             verbose=1, \n",
    "                             monitor='val_loss',\n",
    "                             save_best_only=True, \n",
    "                             mode='auto')"
   ]
  },
  {
   "cell_type": "code",
   "execution_count": 26,
   "metadata": {},
   "outputs": [
    {
     "name": "stdout",
     "output_type": "stream",
     "text": [
      "WARNING:tensorflow:From C:\\Users\\huyth\\Anaconda3\\lib\\site-packages\\tensorflow\\python\\ops\\math_ops.py:3066: to_int32 (from tensorflow.python.ops.math_ops) is deprecated and will be removed in a future version.\n",
      "Instructions for updating:\n",
      "Use tf.cast instead.\n",
      "Train on 25000 samples, validate on 25000 samples\n",
      "Epoch 1/10\n",
      "25000/25000 [==============================] - 639s 26ms/step - loss: 0.3912 - acc: 0.8216 - val_loss: 0.3090 - val_acc: 0.8736\n",
      "\n",
      "Epoch 00001: val_loss improved from inf to 0.30897, saving model to RNN-model-001-0.821560-0.873560.h5\n",
      "Epoch 2/10\n",
      "25000/25000 [==============================] - 629s 25ms/step - loss: 0.2484 - acc: 0.9046 - val_loss: 0.3660 - val_acc: 0.8530\n",
      "\n",
      "Epoch 00002: val_loss did not improve from 0.30897\n",
      "Epoch 3/10\n",
      "25000/25000 [==============================] - 643s 26ms/step - loss: 0.1915 - acc: 0.9288 - val_loss: 0.4315 - val_acc: 0.8589\n",
      "\n",
      "Epoch 00003: val_loss did not improve from 0.30897\n",
      "Epoch 4/10\n",
      "25000/25000 [==============================] - 636s 25ms/step - loss: 0.1509 - acc: 0.9454 - val_loss: 0.3797 - val_acc: 0.8375\n",
      "\n",
      "Epoch 00004: val_loss did not improve from 0.30897\n",
      "Epoch 5/10\n",
      "25000/25000 [==============================] - 641s 26ms/step - loss: 0.1306 - acc: 0.9526 - val_loss: 0.4390 - val_acc: 0.8544\n",
      "\n",
      "Epoch 00005: val_loss did not improve from 0.30897\n",
      "Epoch 6/10\n",
      "25000/25000 [==============================] - 642s 26ms/step - loss: 0.1005 - acc: 0.9644 - val_loss: 0.4401 - val_acc: 0.8479\n",
      "\n",
      "Epoch 00006: val_loss did not improve from 0.30897\n",
      "Epoch 7/10\n",
      "25000/25000 [==============================] - 634s 25ms/step - loss: 0.0847 - acc: 0.9704 - val_loss: 0.5354 - val_acc: 0.8466\n",
      "\n",
      "Epoch 00007: val_loss did not improve from 0.30897\n",
      "Epoch 8/10\n",
      "25000/25000 [==============================] - 638s 26ms/step - loss: 0.0658 - acc: 0.9771 - val_loss: 0.6785 - val_acc: 0.8451\n",
      "\n",
      "Epoch 00008: val_loss did not improve from 0.30897\n",
      "Epoch 9/10\n",
      "25000/25000 [==============================] - 634s 25ms/step - loss: 0.0619 - acc: 0.9774 - val_loss: 0.5965 - val_acc: 0.8371\n",
      "\n",
      "Epoch 00009: val_loss did not improve from 0.30897\n",
      "Epoch 10/10\n",
      "25000/25000 [==============================] - 639s 26ms/step - loss: 0.0541 - acc: 0.9816 - val_loss: 0.6266 - val_acc: 0.8430\n",
      "\n",
      "Epoch 00010: val_loss did not improve from 0.30897\n"
     ]
    }
   ],
   "source": [
    "history_RNN = model.fit(x_train, y_train,\n",
    "          batch_size=batch_size,\n",
    "          epochs=10,\n",
    "          callbacks=[RNN_checkpoint],\n",
    "          validation_data=(x_test, y_test))"
   ]
  },
  {
   "cell_type": "code",
   "execution_count": 27,
   "metadata": {},
   "outputs": [],
   "source": [
    "#model.save('RNN_model_latest.h5')\n",
    "#del model\n",
    "#model = load_model('RNN_model_latest.h5')"
   ]
  },
  {
   "cell_type": "code",
   "execution_count": 104,
   "metadata": {},
   "outputs": [
    {
     "data": {
      "image/png": "[encoded data removed]",
      "text/plain": [
       "<Figure size 720x360 with 1 Axes>"
      ]
     },
     "metadata": {
      "needs_background": "light"
     },
     "output_type": "display_data"
    }
   ],
   "source": [
    "history = history_RNN\n",
    "plt.figure(figsize=(10,5))\n",
    "plt.plot(history.history['acc'])\n",
    "plt.plot(history.history['val_acc'])\n",
    "plt.title('Model accuracy')\n",
    "plt.ylabel('Accuracy')\n",
    "plt.xlabel('Epoch')\n",
    "plt.legend(['Train', 'Test'], loc='upper left')\n",
    "plt.show()"
   ]
  },
  {
   "cell_type": "code",
   "execution_count": 29,
   "metadata": {},
   "outputs": [],
   "source": [
    "#model = load_model('RNN_best_model.h5')"
   ]
  },
  {
   "cell_type": "code",
   "execution_count": 30,
   "metadata": {},
   "outputs": [],
   "source": [
    "#SVG(model_to_dot(model).create(prog='dot', format='svg'))"
   ]
  },
  {
   "cell_type": "code",
   "execution_count": 31,
   "metadata": {},
   "outputs": [],
   "source": [
    "#plot_model(model, to_file='RNN_best_model.png')"
   ]
  },
  {
   "cell_type": "markdown",
   "metadata": {},
   "source": [
    "# Extract the embeded layer to print out words with close meaning"
   ]
  },
  {
   "cell_type": "code",
   "execution_count": 68,
   "metadata": {},
   "outputs": [],
   "source": [
    "# Load the best model\n",
    "model_RNN = load_model('RNN-model-001-0.821560-0.873560.h5')"
   ]
  },
  {
   "cell_type": "code",
   "execution_count": 69,
   "metadata": {},
   "outputs": [
    {
     "data": {
      "text/plain": [
       "(8000, 50)"
      ]
     },
     "execution_count": 69,
     "metadata": {},
     "output_type": "execute_result"
    }
   ],
   "source": [
    "# get embedding layer out of the model\n",
    "layer_embedding_RNN = model_RNN.get_layer('HT_embedding')\n",
    "weights_embedding_RNN = layer_embedding_RNN.get_weights()[0]\n",
    "weights_embedding_RNN.shape"
   ]
  },
  {
   "cell_type": "code",
   "execution_count": 33,
   "metadata": {},
   "outputs": [],
   "source": [
    "def print_sorted_words(word, weights_embedding = weights_embedding_RNN, metric='cosine', k = 10):\n",
    "    # take out the word we care\n",
    "    token = vocab_to_int[word]\n",
    "    embedding = weights_embedding[token]\n",
    "    \n",
    "    #calculate the distances from the words\n",
    "    distances = cdist(weights_embedding, [embedding],\n",
    "                      metric=metric)\n",
    "    distances = np.ravel(distances)\n",
    "    \n",
    "    sorted_index = np.argsort(distances)\n",
    "    \n",
    "    # Calculate the distances and words\n",
    "    sorted_distances = distances[sorted_index[:k]]\n",
    "    sorted_words = [int_to_vocab[idx] for idx in sorted_index[:k]]\n",
    "    \n",
    "    print(\"Distance from '{0}':\".format(word))\n",
    "    for word, distance in zip(sorted_words, sorted_distances):\n",
    "            print(\"{0:.3f} - {1}\".format(distance, word))"
   ]
  },
  {
   "cell_type": "code",
   "execution_count": 120,
   "metadata": {},
   "outputs": [
    {
     "name": "stdout",
     "output_type": "stream",
     "text": [
      "Distance from 'perfect':\n",
      "0.000 - perfect\n",
      "0.071 - quirk\n",
      "0.075 - excellent\n",
      "0.083 - reservation\n",
      "0.085 - wonderfully\n",
      "0.085 - flawless\n"
     ]
    }
   ],
   "source": [
    "print_sorted_words('perfect',weights_embedding = weights_embedding_RNN, metric='cosine', k = 6)"
   ]
  },
  {
   "cell_type": "code",
   "execution_count": 121,
   "metadata": {},
   "outputs": [
    {
     "name": "stdout",
     "output_type": "stream",
     "text": [
      "Distance from 'boring':\n",
      "0.000 - boring\n",
      "0.050 - worst\n",
      "0.062 - boredom\n",
      "0.063 - pointless\n",
      "0.069 - incoherent\n",
      "0.072 - skull\n"
     ]
    }
   ],
   "source": [
    "print_sorted_words('boring', weights_embedding = weights_embedding_RNN, metric='cosine', k = 6)"
   ]
  },
  {
   "cell_type": "markdown",
   "metadata": {},
   "source": [
    "# CNN model"
   ]
  },
  {
   "cell_type": "code",
   "execution_count": 36,
   "metadata": {},
   "outputs": [],
   "source": [
    "batch_size = 25\n",
    "kernel_size = 3"
   ]
  },
  {
   "cell_type": "code",
   "execution_count": 37,
   "metadata": {},
   "outputs": [],
   "source": [
    "model = Sequential()\n",
    "\n",
    "model.add(Embedding(max_features,100,\n",
    "                    input_length=maxlen,\n",
    "                    name = 'HT_embedding'))\n",
    "model.add(Dropout(0.2))\n",
    "model.add(Conv1D(500,kernel_size,padding='valid',\n",
    "                 activation='relu',strides=1))\n",
    "model.add(GlobalMaxPooling1D())\n",
    "model.add(Dense(500,activation ='relu'))\n",
    "model.add(Dropout(0.5))\n",
    "model.add(Dense(250,activation ='relu'))\n",
    "model.add(Dropout(0.5))\n",
    "model.add(Dense(1))\n",
    "model.add(Activation('sigmoid'))"
   ]
  },
  {
   "cell_type": "code",
   "execution_count": 38,
   "metadata": {},
   "outputs": [
    {
     "name": "stdout",
     "output_type": "stream",
     "text": [
      "_________________________________________________________________\n",
      "Layer (type)                 Output Shape              Param #   \n",
      "=================================================================\n",
      "HT_embedding (Embedding)     (None, 600, 100)          800000    \n",
      "_________________________________________________________________\n",
      "dropout_2 (Dropout)          (None, 600, 100)          0         \n",
      "_________________________________________________________________\n",
      "conv1d_1 (Conv1D)            (None, 598, 500)          150500    \n",
      "_________________________________________________________________\n",
      "global_max_pooling1d_1 (Glob (None, 500)               0         \n",
      "_________________________________________________________________\n",
      "dense_3 (Dense)              (None, 500)               250500    \n",
      "_________________________________________________________________\n",
      "dropout_3 (Dropout)          (None, 500)               0         \n",
      "_________________________________________________________________\n",
      "dense_4 (Dense)              (None, 250)               125250    \n",
      "_________________________________________________________________\n",
      "dropout_4 (Dropout)          (None, 250)               0         \n",
      "_________________________________________________________________\n",
      "dense_5 (Dense)              (None, 1)                 251       \n",
      "_________________________________________________________________\n",
      "activation_1 (Activation)    (None, 1)                 0         \n",
      "=================================================================\n",
      "Total params: 1,326,501\n",
      "Trainable params: 1,326,501\n",
      "Non-trainable params: 0\n",
      "_________________________________________________________________\n"
     ]
    }
   ],
   "source": [
    "model.summary()"
   ]
  },
  {
   "cell_type": "code",
   "execution_count": 39,
   "metadata": {},
   "outputs": [],
   "source": [
    "model.compile(loss='binary_crossentropy',\n",
    "              optimizer='adam',\n",
    "              metrics=['accuracy'])"
   ]
  },
  {
   "cell_type": "code",
   "execution_count": 40,
   "metadata": {},
   "outputs": [],
   "source": [
    "CNN_checkpoint = ModelCheckpoint('CNN-model-{epoch:03d}-{acc:03f}-{val_acc:03f}.h5', \n",
    "                             verbose=1, \n",
    "                             monitor='val_loss',\n",
    "                             save_best_only=True, \n",
    "                             mode='auto')"
   ]
  },
  {
   "cell_type": "code",
   "execution_count": 41,
   "metadata": {},
   "outputs": [
    {
     "name": "stdout",
     "output_type": "stream",
     "text": [
      "WARNING:tensorflow:From C:\\Users\\huyth\\Anaconda3\\lib\\site-packages\\tensorflow\\python\\ops\\math_grad.py:102: div (from tensorflow.python.ops.math_ops) is deprecated and will be removed in a future version.\n",
      "Instructions for updating:\n",
      "Deprecated in favor of operator or tf.math.divide.\n",
      "Train on 25000 samples, validate on 25000 samples\n",
      "Epoch 1/10\n",
      "25000/25000 [==============================] - 530s 21ms/step - loss: 0.4200 - acc: 0.7924 - val_loss: 0.2954 - val_acc: 0.8763\n",
      "\n",
      "Epoch 00001: val_loss improved from inf to 0.29540, saving model to CNN-model-001-0.792360-0.876320.h5\n",
      "Epoch 2/10\n",
      "25000/25000 [==============================] - 547s 22ms/step - loss: 0.2250 - acc: 0.9139 - val_loss: 0.2800 - val_acc: 0.8851\n",
      "\n",
      "Epoch 00002: val_loss improved from 0.29540 to 0.27998, saving model to CNN-model-002-0.913880-0.885120.h5\n",
      "Epoch 3/10\n",
      "25000/25000 [==============================] - 563s 23ms/step - loss: 0.1271 - acc: 0.9536 - val_loss: 0.3257 - val_acc: 0.8773\n",
      "\n",
      "Epoch 00003: val_loss did not improve from 0.27998\n",
      "Epoch 4/10\n",
      "25000/25000 [==============================] - 555s 22ms/step - loss: 0.0731 - acc: 0.9737 - val_loss: 0.4270 - val_acc: 0.8705\n",
      "\n",
      "Epoch 00004: val_loss did not improve from 0.27998\n",
      "Epoch 5/10\n",
      "25000/25000 [==============================] - 558s 22ms/step - loss: 0.0427 - acc: 0.9856 - val_loss: 0.5078 - val_acc: 0.8720\n",
      "\n",
      "Epoch 00005: val_loss did not improve from 0.27998\n",
      "Epoch 6/10\n",
      "25000/25000 [==============================] - 570s 23ms/step - loss: 0.0368 - acc: 0.9871 - val_loss: 0.5522 - val_acc: 0.8726\n",
      "\n",
      "Epoch 00006: val_loss did not improve from 0.27998\n",
      "Epoch 7/10\n",
      "25000/25000 [==============================] - 579s 23ms/step - loss: 0.0282 - acc: 0.9902 - val_loss: 0.7728 - val_acc: 0.8472\n",
      "\n",
      "Epoch 00007: val_loss did not improve from 0.27998\n",
      "Epoch 8/10\n",
      "25000/25000 [==============================] - 568s 23ms/step - loss: 0.0240 - acc: 0.9914 - val_loss: 0.6176 - val_acc: 0.8715\n",
      "\n",
      "Epoch 00008: val_loss did not improve from 0.27998\n",
      "Epoch 9/10\n",
      "25000/25000 [==============================] - 567s 23ms/step - loss: 0.0235 - acc: 0.9906 - val_loss: 0.7138 - val_acc: 0.8616\n",
      "\n",
      "Epoch 00009: val_loss did not improve from 0.27998\n",
      "Epoch 10/10\n",
      "25000/25000 [==============================] - 570s 23ms/step - loss: 0.0178 - acc: 0.9937 - val_loss: 0.7779 - val_acc: 0.8680\n",
      "\n",
      "Epoch 00010: val_loss did not improve from 0.27998\n"
     ]
    }
   ],
   "source": [
    "history_CNN = model.fit(x_train, y_train,\n",
    "          batch_size=batch_size,\n",
    "          epochs=10,\n",
    "          callbacks=[CNN_checkpoint],\n",
    "          validation_data=(x_test, y_test))"
   ]
  },
  {
   "cell_type": "code",
   "execution_count": null,
   "metadata": {},
   "outputs": [],
   "source": [
    "model.save('CNN_model_latest.h5')"
   ]
  },
  {
   "cell_type": "code",
   "execution_count": 103,
   "metadata": {},
   "outputs": [
    {
     "data": {
      "image/png": "[encoded data removed]",
      "text/plain": [
       "<Figure size 720x360 with 1 Axes>"
      ]
     },
     "metadata": {
      "needs_background": "light"
     },
     "output_type": "display_data"
    }
   ],
   "source": [
    "history= history_CNN\n",
    "plt.figure(figsize=(10,5))\n",
    "plt.plot(history.history['acc'])\n",
    "plt.plot(history.history['val_acc'])\n",
    "plt.title('Model accuracy')\n",
    "plt.ylabel('Accuracy')\n",
    "plt.xlabel('Epoch')\n",
    "plt.legend(['Train', 'Test'], loc='upper left')\n",
    "plt.show()"
   ]
  },
  {
   "cell_type": "code",
   "execution_count": 89,
   "metadata": {},
   "outputs": [],
   "source": [
    "# Load the best model\n",
    "model_CNN = load_model('CNN-model-002-0.913880-0.885120.h5')"
   ]
  },
  {
   "cell_type": "code",
   "execution_count": 90,
   "metadata": {},
   "outputs": [
    {
     "data": {
      "text/plain": [
       "(8000, 100)"
      ]
     },
     "execution_count": 90,
     "metadata": {},
     "output_type": "execute_result"
    }
   ],
   "source": [
    "# get embedding layer out of the model\n",
    "layer_embedding_CNN = model_CNN.get_layer('HT_embedding')\n",
    "weights_embedding_CNN = layer_embedding_CNN.get_weights()[0]\n",
    "weights_embedding_CNN.shape"
   ]
  },
  {
   "cell_type": "code",
   "execution_count": 91,
   "metadata": {},
   "outputs": [
    {
     "name": "stdout",
     "output_type": "stream",
     "text": [
      "Distance from 'remarkable':\n",
      "0.000 - remarkable\n",
      "0.413 - finest\n",
      "0.434 - detract\n",
      "0.442 - liked\n",
      "0.443 - awesome\n",
      "0.466 - sensitive\n"
     ]
    }
   ],
   "source": [
    "print_sorted_words('remarkable',weights_embedding = weights_embedding_CNN, metric='cosine', k = 6)"
   ]
  },
  {
   "cell_type": "code",
   "execution_count": 95,
   "metadata": {},
   "outputs": [
    {
     "name": "stdout",
     "output_type": "stream",
     "text": [
      "Distance from 'dull':\n",
      "0.000 - dull\n",
      "0.226 - tiresome\n",
      "0.307 - thunderbird\n",
      "0.311 - lousy\n",
      "0.311 - poorly\n",
      "0.317 - feeble\n"
     ]
    }
   ],
   "source": [
    "print_sorted_words('dull', weights_embedding = weights_embedding_CNN, metric='cosine', k = 6)"
   ]
  },
  {
   "cell_type": "markdown",
   "metadata": {},
   "source": [
    "## Let's learn on what words are significant inside this model"
   ]
  },
  {
   "cell_type": "code",
   "execution_count": 75,
   "metadata": {},
   "outputs": [],
   "source": [
    "# Well, what should be the function to measure the importance of the word\n",
    "# simply pass a single word into the model and evaluate the score\n",
    "word_importance = []\n",
    "for idx in range(max_features):\n",
    "    temp_data = np.array([[0]*(maxlen-1) + [idx]])\n",
    "    #temp_data = sequence.pad_sequences([idx],maxlen = maxlen)\n",
    "    temp = model_RNN.predict(temp_data)\n",
    "    word_importance.append(temp)"
   ]
  },
  {
   "cell_type": "code",
   "execution_count": 76,
   "metadata": {},
   "outputs": [],
   "source": [
    "word_score =  np.array([x[0,0] for x in word_importance])\n",
    "sorted_importance_idx = np.argsort(word_score)"
   ]
  },
  {
   "cell_type": "code",
   "execution_count": 118,
   "metadata": {},
   "outputs": [
    {
     "name": "stdout",
     "output_type": "stream",
     "text": [
      "Score: 0.12 -- worst\n",
      "Score: 0.17 -- awful\n",
      "Score: 0.19 -- disappointing\n",
      "Score: 0.19 -- dull\n",
      "Score: 0.20 -- waste\n",
      "Score: 0.24 -- pathetic\n",
      "Score: 0.24 -- incoherent\n",
      "Score: 0.25 -- skull\n",
      "Score: 0.27 -- disappointment\n",
      "Score: 0.28 -- fails\n",
      "Score: 0.28 -- avoid\n",
      "Score: 0.28 -- poorly\n"
     ]
    }
   ],
   "source": [
    "# Print out the most negative 50 words:\n",
    "k = 12\n",
    "for idx in range(k):\n",
    "    index = sorted_importance_idx[idx]\n",
    "    print('Score: %.2f --' % word_score[index], int_to_vocab[index])"
   ]
  },
  {
   "cell_type": "code",
   "execution_count": 119,
   "metadata": {},
   "outputs": [
    {
     "name": "stdout",
     "output_type": "stream",
     "text": [
      "Score: 0.92 -- excellent\n",
      "Score: 0.91 -- refreshing\n",
      "Score: 0.90 -- wonderfully\n",
      "Score: 0.89 -- perfect\n",
      "Score: 0.87 -- brilliant\n",
      "Score: 0.87 -- perfection\n",
      "Score: 0.87 -- highly\n",
      "Score: 0.87 -- perfectly\n",
      "Score: 0.87 -- finest\n",
      "Score: 0.87 -- gem\n",
      "Score: 0.87 -- recommended\n",
      "Score: 0.87 -- ramones\n"
     ]
    }
   ],
   "source": [
    "k = 12\n",
    "for idx in range(k):\n",
    "    index = sorted_importance_idx[-idx-1]\n",
    "    print('Score: %.2f --' % word_score[index], int_to_vocab[index])"
   ]
  },
  {
   "cell_type": "markdown",
   "metadata": {},
   "source": [
    "# Plot the RNN/CNN accuracy in the same plot"
   ]
  },
  {
   "cell_type": "code",
   "execution_count": 107,
   "metadata": {},
   "outputs": [],
   "source": [
    "import matplotlib\n",
    "matplotlib.rcParams['font.sans-serif'] = \"Arial\"\n",
    "# Then, \"ALWAYS use sans-serif fonts\"\n",
    "matplotlib.rcParams['font.family'] = \"sans-serif\"\n",
    "\n",
    "matplotlib.rcParams['axes.linewidth'] = 1.25"
   ]
  },
  {
   "cell_type": "code",
   "execution_count": 113,
   "metadata": {},
   "outputs": [],
   "source": [
    "epoches = np.arange(1,11)\n",
    "history_RNN_train = np.array(history_RNN.history['acc'])*100\n",
    "history_RNN_test = np.array(history_RNN.history['val_acc'])*100\n",
    "history_CNN_train = np.array(history_CNN.history['acc'])*100\n",
    "history_CNN_test = np.array(history_CNN.history['val_acc'])*100"
   ]
  },
  {
   "cell_type": "code",
   "execution_count": 115,
   "metadata": {},
   "outputs": [
    {
     "data": {
      "image/png": "[encoded data removed]",
      "text/plain": [
       "<Figure size 576x432 with 1 Axes>"
      ]
     },
     "metadata": {
      "needs_background": "light"
     },
     "output_type": "display_data"
    }
   ],
   "source": [
    "width1 = 3\n",
    "color1, color2 = 'blue','red'\n",
    "font1, font2, font3 = 18, 16, 18\n",
    "plt.figure(figsize=(8,6))\n",
    "plt.plot(epoches,history_RNN_train,'--',color = color1, linewidth= width1 )\n",
    "plt.plot(epoches,history_RNN_test,color = color1, linewidth= width1)\n",
    "plt.plot(epoches,history_CNN_train,'--',color = color2, linewidth= width1)\n",
    "plt.plot(epoches,history_CNN_test,color = color2, linewidth= width1)\n",
    "plt.title('Model accuracy', fontsize = font1)\n",
    "plt.ylabel('Accuracy (%)', fontsize = font1)\n",
    "plt.yticks(fontsize = font2)\n",
    "plt.xlabel('Epoches', fontsize = font1)\n",
    "plt.xticks(fontsize = font2)\n",
    "plt.legend(['RNN Train', 'RNN Test','CNN Train', 'CNN Test'], fontsize = font3)\n",
    "plt.grid()\n",
    "plt.show()"
   ]
  }
 ],
 "metadata": {
  "kernelspec": {
   "display_name": "Python 3",
   "language": "python",
   "name": "python3"
  },
  "language_info": {
   "codemirror_mode": {
    "name": "ipython",
    "version": 3
   },
   "file_extension": ".py",
   "mimetype": "text/x-python",
   "name": "python",
   "nbconvert_exporter": "python",
   "pygments_lexer": "ipython3",
   "version": "3.5.6"
  },
  "widgets": {
   "state": {},
   "version": "1.1.2"
  }
 },
 "nbformat": 4,
 "nbformat_minor": 2
}
